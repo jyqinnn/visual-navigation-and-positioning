{
 "cells": [
  {
   "cell_type": "code",
   "execution_count": 17,
   "metadata": {
    "ExecuteTime": {
     "end_time": "2018-04-24T08:20:46.276111Z",
     "start_time": "2018-04-24T08:20:46.255610Z"
    }
   },
   "outputs": [],
   "source": [
    "import csv\n",
    "    \n",
    "def readTrajectoryFile( path):\n",
    "        traj = []\n",
    "        timeS = []\n",
    "        with open('/notebooks/EuRoC_modify/V2_01_easy' + path) as csvfile:\n",
    "            spamreader = csv.reader(csvfile, delimiter=',', quotechar='|')\n",
    "            for row in spamreader:\n",
    "                parsed = [float(row[1]), float(row[2]), float(row[3]), \n",
    "                          float(row[4]), float(row[5]), float(row[6]), float(row[7])]\n",
    "                traj.append(parsed)\n",
    "                timeS.append(int(row[0]))\n",
    "                \n",
    "        return np.array(traj), np.array(timeS)\n",
    "\n",
    "\n",
    "trajectory_relative, timeS = readTrajectoryFile('/vicon0/sampled_relative.csv')"
   ]
  },
  {
   "cell_type": "code",
   "execution_count": 18,
   "metadata": {
    "ExecuteTime": {
     "end_time": "2018-04-24T08:20:47.366149Z",
     "start_time": "2018-04-24T08:20:47.356592Z"
    }
   },
   "outputs": [
    {
     "name": "stdout",
     "output_type": "stream",
     "text": [
      "[-0.98242837  0.46276178  1.44008919  0.00639201  0.01707139  0.01744181\n",
      "  0.9996817 ]\n",
      "(2276,)\n"
     ]
    }
   ],
   "source": [
    "print(trajectory_relative[0])\n",
    "print(timeS.shape)"
   ]
  },
  {
   "cell_type": "code",
   "execution_count": 1,
   "metadata": {
    "ExecuteTime": {
     "end_time": "2018-04-24T15:04:21.269238Z",
     "start_time": "2018-04-24T15:04:21.098953Z"
    }
   },
   "outputs": [],
   "source": [
    "import sys\n",
    "sys.path\n",
    "sys.path.append('/notebooks/vinet/')\n",
    "from utils import se3qua"
   ]
  },
  {
   "cell_type": "code",
   "execution_count": 20,
   "metadata": {
    "ExecuteTime": {
     "end_time": "2018-04-24T08:20:57.932158Z",
     "start_time": "2018-04-24T08:20:51.181640Z"
    }
   },
   "outputs": [
    {
     "name": "stdout",
     "output_type": "stream",
     "text": [
      "[[ 6.98796229e-01  1.60425495e+00  1.39146316e+00  5.34141989e-02\n",
      "   5.45732048e-02  3.12787654e+00]\n",
      " [-3.92950780e-05 -1.14350925e-04  1.45808371e-05  8.61849770e-04\n",
      "  -4.56376081e-04  6.49458644e-04]\n",
      " [ 2.34195726e-05  9.81984036e-05 -8.15634221e-06 -6.24488208e-04\n",
      "   4.68684406e-04 -5.54140597e-04]\n",
      " ...\n",
      " [-7.12156760e-06  2.17499065e-06  4.54465649e-06 -1.21224761e-04\n",
      "   2.74697627e-05 -5.93889601e-05]\n",
      " [ 1.02899213e-05  2.99699897e-05 -4.97137899e-05 -4.76844001e-04\n",
      "   2.99906582e-04 -2.00036665e-05]\n",
      " [ 2.30063681e+00 -3.95398500e-01  4.21679767e-01 -1.50927764e-03\n",
      "   4.55777714e-02  1.30500210e+00]]\n"
     ]
    }
   ],
   "source": [
    "\n",
    "r6 = se3qua.xyzQ2se3(trajectory_relative)\n",
    "\n",
    "print(r6)\n"
   ]
  },
  {
   "cell_type": "code",
   "execution_count": 21,
   "metadata": {
    "ExecuteTime": {
     "end_time": "2018-04-24T08:20:57.979444Z",
     "start_time": "2018-04-24T08:20:57.976642Z"
    }
   },
   "outputs": [
    {
     "name": "stdout",
     "output_type": "stream",
     "text": [
      "[[ 1.41339321e+18  6.98796229e-01  1.60425495e+00 ...  5.34141989e-02\n",
      "   5.45732048e-02  3.12787654e+00]\n",
      " [ 1.41339321e+18 -3.92950780e-05 -1.14350925e-04 ...  8.61849770e-04\n",
      "  -4.56376081e-04  6.49458644e-04]\n",
      " [ 1.41339321e+18  2.34195726e-05  9.81984036e-05 ... -6.24488208e-04\n",
      "   4.68684406e-04 -5.54140597e-04]\n",
      " ...\n",
      " [ 1.41339333e+18 -7.12156760e-06  2.17499065e-06 ... -1.21224761e-04\n",
      "   2.74697627e-05 -5.93889601e-05]\n",
      " [ 1.41339333e+18  1.02899213e-05  2.99699897e-05 ... -4.76844001e-04\n",
      "   2.99906582e-04 -2.00036665e-05]\n",
      " [ 1.41339321e+18  2.30063681e+00 -3.95398500e-01 ... -1.50927764e-03\n",
      "   4.55777714e-02  1.30500210e+00]]\n"
     ]
    }
   ],
   "source": [
    "k = np.c_[timeS, r6]\n",
    "print(k)\n",
    "\n",
    "#print(trajectory_relative.shape)\n",
    "#print(r6.shape)"
   ]
  },
  {
   "cell_type": "code",
   "execution_count": 22,
   "metadata": {
    "ExecuteTime": {
     "end_time": "2018-04-24T08:21:04.234563Z",
     "start_time": "2018-04-24T08:21:04.229654Z"
    }
   },
   "outputs": [
    {
     "name": "stdout",
     "output_type": "stream",
     "text": [
      "2276\n"
     ]
    }
   ],
   "source": [
    "a = trajectory_relative.shape\n",
    "print(a[0])"
   ]
  },
  {
   "cell_type": "code",
   "execution_count": 23,
   "metadata": {
    "ExecuteTime": {
     "end_time": "2018-04-24T08:21:20.256458Z",
     "start_time": "2018-04-24T08:21:20.237275Z"
    }
   },
   "outputs": [],
   "source": [
    "np.savetxt(\"sampled_relative_r6.csv\", r6, delimiter=\",\", fmt='%.15f')"
   ]
  },
  {
   "cell_type": "code",
   "execution_count": null,
   "metadata": {},
   "outputs": [],
   "source": []
  }
 ],
 "metadata": {
  "kernelspec": {
   "display_name": "Python 3",
   "language": "python",
   "name": "python3"
  },
  "language_info": {
   "codemirror_mode": {
    "name": "ipython",
    "version": 3
   },
   "file_extension": ".py",
   "mimetype": "text/x-python",
   "name": "python",
   "nbconvert_exporter": "python",
   "pygments_lexer": "ipython3",
   "version": "3.5.2"
  },
  "varInspector": {
   "cols": {
    "lenName": 16,
    "lenType": 16,
    "lenVar": 40
   },
   "kernels_config": {
    "python": {
     "delete_cmd_postfix": "",
     "delete_cmd_prefix": "del ",
     "library": "var_list.py",
     "varRefreshCmd": "print(var_dic_list())"
    },
    "r": {
     "delete_cmd_postfix": ") ",
     "delete_cmd_prefix": "rm(",
     "library": "var_list.r",
     "varRefreshCmd": "cat(var_dic_list()) "
    }
   },
   "types_to_exclude": [
    "module",
    "function",
    "builtin_function_or_method",
    "instance",
    "_Feature"
   ],
   "window_display": false
  }
 },
 "nbformat": 4,
 "nbformat_minor": 2
}
