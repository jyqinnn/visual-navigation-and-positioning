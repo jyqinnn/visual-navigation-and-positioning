{
 "cells": [
  {
   "cell_type": "code",
   "execution_count": 1,
   "metadata": {
    "ExecuteTime": {
     "end_time": "2018-04-24T15:45:51.203595Z",
     "start_time": "2018-04-24T15:45:51.034333Z"
    }
   },
   "outputs": [],
   "source": [
    "import sys\n",
    "sys.path\n",
    "sys.path.append('/notebooks/Sophus/py')\n",
    "\n",
    "from sophus import *\n",
    "import numpy as np\n",
    "from sympy import *"
   ]
  },
  {
   "cell_type": "code",
   "execution_count": 2,
   "metadata": {
    "ExecuteTime": {
     "end_time": "2018-04-24T15:45:51.713444Z",
     "start_time": "2018-04-24T15:45:51.650998Z"
    }
   },
   "outputs": [],
   "source": [
    "## xyz quaternion ==> se(3)\n",
    "def normalize(ww,wx,wy,wz):# make first number positive\n",
    "    q = [ww, wx, wy, wz]\n",
    "    ## Find first negative\n",
    "    idx = -1\n",
    "    for i in range(len(q)):\n",
    "        if q[i] < 0:\n",
    "            idx = i\n",
    "            break\n",
    "        elif q[i] > 0:\n",
    "            break\n",
    "    # -1 if should not filp, >=0  flipping index\n",
    "    if idx >= 0:\n",
    "        ww = ww * -1\n",
    "        wx = wx * -1\n",
    "        wy = wy * -1\n",
    "        wz = wz * -1\n",
    "    return ww, wx, wy, wz  \n",
    "    \n",
    "\n",
    "def xyzQuaternion2se3(x,y,z,ww,wx,wy,wz):\n",
    "    trans = Matrix([x,y,z])\n",
    "    ww, wx, wy, wz = normalize(ww, wx, wy, wz)\n",
    "        \n",
    "    q_real = ww\n",
    "    q_img = Matrix([wx, wy, wz])\n",
    "    q = Quaternion(q_real,q_img)\n",
    "    R = So3(q)\n",
    "    \n",
    "    RT = Se3(R, trans)\n",
    "    \n",
    "    return RT.log()"
   ]
  },
  {
   "cell_type": "code",
   "execution_count": 3,
   "metadata": {
    "ExecuteTime": {
     "end_time": "2018-04-24T15:45:52.559330Z",
     "start_time": "2018-04-24T15:45:52.540830Z"
    }
   },
   "outputs": [
    {
     "name": "stdout",
     "output_type": "stream",
     "text": [
      "0.764 -0.002 -0.612 0.204\n",
      "se3 in R^6\n",
      "⎡  18.3424761127696  ⎤\n",
      "⎢                    ⎥\n",
      "⎢  7.14975327850079  ⎥\n",
      "⎢                    ⎥\n",
      "⎢  4.54085273856874  ⎥\n",
      "⎢                    ⎥\n",
      "⎢-0.00434794589099048⎥\n",
      "⎢                    ⎥\n",
      "⎢ -1.33047144264309  ⎥\n",
      "⎢                    ⎥\n",
      "⎣ 0.443490480881028  ⎦\n",
      "se3 in R^4x4\n",
      "⎡        0           -0.443490480881028    -1.33047144264309   18.342476112769\n",
      "⎢                                                                             \n",
      "⎢0.443490480881028           0            0.00434794589099048  7.1497532785007\n",
      "⎢                                                                             \n",
      "⎢1.33047144264309   -0.00434794589099048           0           4.5408527385687\n",
      "⎢                                                                             \n",
      "⎣        0                   0                     0                  0       \n",
      "\n",
      "6⎤\n",
      " ⎥\n",
      "9⎥\n",
      " ⎥\n",
      "4⎥\n",
      " ⎥\n",
      " ⎦\n",
      "se3 in R^6\n",
      "⎡  18.3424761127696  ⎤\n",
      "⎢                    ⎥\n",
      "⎢  7.14975327850079  ⎥\n",
      "⎢                    ⎥\n",
      "⎢  4.54085273856874  ⎥\n",
      "⎢                    ⎥\n",
      "⎢-0.00434794589099048⎥\n",
      "⎢                    ⎥\n",
      "⎢ -1.33047144264309  ⎥\n",
      "⎢                    ⎥\n",
      "⎣ 0.443490480881028  ⎦\n"
     ]
    }
   ],
   "source": [
    "ww, wx, wy, wz = normalize(-0.764,0.002,0.612,-0.204)\n",
    "print(ww, wx, wy, wz)\n",
    "\n",
    "\n",
    "print(\"se3 in R^6\")\n",
    "RT_se3_R6 = xyzQuaternion2se3(9,10,13,ww, wx, wy, wz)\n",
    "pprint(RT_se3_R6)\n",
    "\n",
    "print(\"se3 in R^4x4\")\n",
    "hat = Se3.hat(RT_se3_R6)\n",
    "pprint(hat)\n",
    "\n",
    "print(\"se3 in R^6\")\n",
    "vee = Se3.vee(hat)\n",
    "pprint(vee)"
   ]
  },
  {
   "cell_type": "code",
   "execution_count": 4,
   "metadata": {
    "ExecuteTime": {
     "end_time": "2018-04-24T15:45:53.202723Z",
     "start_time": "2018-04-24T15:45:53.191541Z"
    }
   },
   "outputs": [
    {
     "name": "stdout",
     "output_type": "stream",
     "text": [
      "SE3\n",
      "⎡0.167563458884244  -0.309307303022423  -0.936083051627228  9.0 ⎤\n",
      "⎢                                                               ⎥\n",
      "⎢0.314203988558398  0.916748344768267   -0.246674534434821  10.0⎥\n",
      "⎢                                                               ⎥\n",
      "⎢0.934450823115236  -0.252787390234633  0.250799111875662   13.0⎥\n",
      "⎢                                                               ⎥\n",
      "⎣        0                  0                   0            1  ⎦\n",
      "acc SE3\n",
      "⎡-0.94383165364392  -0.0987555679594194  -0.315323876953199   -4.75408157142 ⎤\n",
      "⎢                                                                            ⎥\n",
      "⎢0.110189871804384   0.805598151132593   -0.582125253741393  18.7885503970556⎥\n",
      "⎢                                                                            ⎥\n",
      "⎢0.311512442338211  -0.584173738444959   -0.749467171782543  22.1425719600744⎥\n",
      "⎢                                                                            ⎥\n",
      "⎣        0                   0                   0                  1        ⎦\n"
     ]
    }
   ],
   "source": [
    "print(\"SE3\")\n",
    "M_SE3 = Se3.exp(RT_se3_R6)#-0.764,0.002,0.612,-0.204)\n",
    "M_SE3 = M_SE3.matrix()\n",
    "pprint(M_SE3)\n",
    "\n",
    "print(\"acc SE3\")\n",
    "M_SE3_acc = M_SE3 * M_SE3\n",
    "pprint(M_SE3_acc)"
   ]
  },
  {
   "cell_type": "code",
   "execution_count": 5,
   "metadata": {
    "ExecuteTime": {
     "end_time": "2018-04-24T15:45:54.177239Z",
     "start_time": "2018-04-24T15:45:54.172718Z"
    }
   },
   "outputs": [],
   "source": [
    "from pyquaternion import Quaternion as Qua"
   ]
  },
  {
   "cell_type": "code",
   "execution_count": 6,
   "metadata": {
    "ExecuteTime": {
     "end_time": "2018-04-24T15:45:54.995863Z",
     "start_time": "2018-04-24T15:45:54.982700Z"
    }
   },
   "outputs": [
    {
     "name": "stdout",
     "output_type": "stream",
     "text": [
      "[ 9.00000000e+00  1.00000000e+01  1.30000000e+01  7.64053486e-01\n",
      " -2.00014001e-03 -6.12042844e-01  2.04014281e-01]\n"
     ]
    }
   ],
   "source": [
    "## SE3 to x y z quaternion\n",
    "def SE3toXYZQuaternion(matrix):\n",
    "    trans = np.array([matrix[0,3], matrix[1,3], matrix[2,3]]).astype(float)\n",
    "\n",
    "    q = np.array(matrix[0:3,0:3]).astype(float)\n",
    "    \n",
    "    q8d = Qua(matrix=q)\n",
    "    r = np.array([q8d.real]).astype(float)\n",
    "    v = np.array(q8d.imaginary).astype(float)\n",
    "    \n",
    "    q_con = np.concatenate([trans, r, v])\n",
    "    \n",
    "    return q_con\n",
    "\n",
    "xq = SE3toXYZQuaternion(M_SE3)\n",
    "print(xq)"
   ]
  },
  {
   "cell_type": "code",
   "execution_count": 7,
   "metadata": {
    "ExecuteTime": {
     "end_time": "2018-04-24T15:45:56.284574Z",
     "start_time": "2018-04-24T15:45:56.278638Z"
    }
   },
   "outputs": [],
   "source": [
    "import sys\n",
    "sys.path\n",
    "sys.path.append('/notebooks/vinet/')\n",
    "from utils import se3qua"
   ]
  },
  {
   "cell_type": "code",
   "execution_count": 8,
   "metadata": {
    "ExecuteTime": {
     "end_time": "2018-04-24T15:45:58.893316Z",
     "start_time": "2018-04-24T15:45:58.877751Z"
    }
   },
   "outputs": [
    {
     "name": "stdout",
     "output_type": "stream",
     "text": [
      "⎡-0.94383165364392  -0.0987555679594193  -0.315323876953198   -4.75408157142 ⎤\n",
      "⎢                                                                            ⎥\n",
      "⎢0.110189871804384   0.805598151132593   -0.582125253741393  18.7885503970556⎥\n",
      "⎢                                                                            ⎥\n",
      "⎢0.31151244233821   -0.584173738444959   -0.749467171782543  22.1425719600744⎥\n",
      "⎢                                                                            ⎥\n",
      "⎣        0                   0                   0                  1        ⎦\n"
     ]
    }
   ],
   "source": [
    "last_xyzq = np.array([9,10,13,ww, wx, wy, wz])\n",
    "new = np.array([18.3424761127696,\n",
    "                7.14975327850079, \n",
    "                4.5408527385687, \n",
    "                -0.00434794589099048,\n",
    "                -1.3304714426430,0.443490480881028])\n",
    "\n",
    "out = se3qua.accu(last_xyzq, vee)"
   ]
  },
  {
   "cell_type": "code",
   "execution_count": 9,
   "metadata": {
    "ExecuteTime": {
     "end_time": "2018-04-24T15:46:02.392992Z",
     "start_time": "2018-04-24T15:46:02.384661Z"
    }
   },
   "outputs": [
    {
     "name": "stdout",
     "output_type": "stream",
     "text": [
      "<class 'numpy.ndarray'>\n"
     ]
    }
   ],
   "source": [
    "print(type(last_xyzq))"
   ]
  },
  {
   "cell_type": "code",
   "execution_count": null,
   "metadata": {},
   "outputs": [],
   "source": []
  },
  {
   "cell_type": "code",
   "execution_count": null,
   "metadata": {},
   "outputs": [],
   "source": []
  },
  {
   "cell_type": "code",
   "execution_count": null,
   "metadata": {},
   "outputs": [],
   "source": []
  },
  {
   "cell_type": "code",
   "execution_count": 15,
   "metadata": {
    "ExecuteTime": {
     "end_time": "2018-04-24T16:49:30.668412Z",
     "start_time": "2018-04-24T16:49:30.663861Z"
    }
   },
   "outputs": [],
   "source": [
    "\n",
    "\n",
    "test = Matrix(np.transpose(np.zeros((1,6))))"
   ]
  },
  {
   "cell_type": "code",
   "execution_count": 16,
   "metadata": {
    "ExecuteTime": {
     "end_time": "2018-04-24T16:49:31.548596Z",
     "start_time": "2018-04-24T16:49:31.544260Z"
    }
   },
   "outputs": [
    {
     "name": "stdout",
     "output_type": "stream",
     "text": [
      "⎡0.0⎤\n",
      "⎢   ⎥\n",
      "⎢0.0⎥\n",
      "⎢   ⎥\n",
      "⎢0.0⎥\n",
      "⎢   ⎥\n",
      "⎢0.0⎥\n",
      "⎢   ⎥\n",
      "⎢0.0⎥\n",
      "⎢   ⎥\n",
      "⎣0.0⎦\n"
     ]
    }
   ],
   "source": [
    "pprint(test)"
   ]
  },
  {
   "cell_type": "code",
   "execution_count": null,
   "metadata": {},
   "outputs": [],
   "source": []
  }
 ],
 "metadata": {
  "kernelspec": {
   "display_name": "Python 3",
   "language": "python",
   "name": "python3"
  },
  "language_info": {
   "codemirror_mode": {
    "name": "ipython",
    "version": 3
   },
   "file_extension": ".py",
   "mimetype": "text/x-python",
   "name": "python",
   "nbconvert_exporter": "python",
   "pygments_lexer": "ipython3",
   "version": "3.5.2"
  },
  "varInspector": {
   "cols": {
    "lenName": 16,
    "lenType": 16,
    "lenVar": 40
   },
   "kernels_config": {
    "python": {
     "delete_cmd_postfix": "",
     "delete_cmd_prefix": "del ",
     "library": "var_list.py",
     "varRefreshCmd": "print(var_dic_list())"
    },
    "r": {
     "delete_cmd_postfix": ") ",
     "delete_cmd_prefix": "rm(",
     "library": "var_list.r",
     "varRefreshCmd": "cat(var_dic_list()) "
    }
   },
   "types_to_exclude": [
    "module",
    "function",
    "builtin_function_or_method",
    "instance",
    "_Feature"
   ],
   "window_display": false
  }
 },
 "nbformat": 4,
 "nbformat_minor": 2
}
